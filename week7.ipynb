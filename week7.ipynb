{
 "cells": [
  {
   "cell_type": "markdown",
   "metadata": {},
   "source": [
    "## Recitation 7\n",
    "\n",
    "For this recitation, we will focus on how to read and use inference rules.  We have defined a small subset of the Lettuce language and rules for the subset.  We then create **proof trees** for small example programs.\n",
    "\n",
    "Note that these proof trees get really big really quickly.  Typically, when writing or using inference rules, one must reason about them in the abstract or as cases for a proof.  \n",
    "\n",
    "Proof trees are a fantastic way to understand how inference rules prove that program evaluates to a value."
   ]
  },
  {
   "cell_type": "markdown",
   "metadata": {},
   "source": [
    "## Grammar for Lettuce\n",
    "\n",
    "Here is a small subset of lettuce that defines the same language as the Lambda Calculus from last week\n",
    "\n",
    "$$\\begin{array}{rcll}\n",
    "\\mathbf{Expr} & \\rightarrow & Const(\\mathbf{Number}) \\\\\n",
    " & | & Ident(\\mathbf{Identifier}) \\\\\n",
    " & | & Plus(\\mathbf{Expr}, \\mathbf{Expr}) \\\\\n",
    " & | & FunDef( \\mathbf{Identifier}, \\mathbf{Expr}) & \\text{function (identifier) expr } \\\\ \n",
    " & | & FunCall(\\mathbf{Expr}, \\mathbf{Expr}) & \\text{function call - identifier(expr)} \\\\[5pt]\n",
    "\\end{array}$$\n"
   ]
  },
  {
   "cell_type": "markdown",
   "metadata": {},
   "source": [
    "## Rules\n",
    "\n",
    "\n",
    "[Inference rules](https://en.wikipedia.org/wiki/Rule_of_inference) are an extremely versatile way to formally define anykind of computation.  In some cases, this extends beyond programming languages.  For example, one can define a specific type of \"constructive logic\" [using inference rules](https://www.cs.cmu.edu/~fp/courses/15317-f00/handouts/logic.pdf).\n",
    "\n",
    "[Operational semantics](https://en.wikipedia.org/wiki/Operational_semantics) can be written for any programming language.  [Here](https://caml.inria.fr/pub/docs/u3-ocaml/ocaml-ml.html) is an example of operational semantics for the programming language Ocaml.\n",
    "\n",
    "We often want to use inference rules to reason about a specific program. Each inference rule can only be used for a specific case or type of expression. For example the Plus rule is used only expressions that are a Plus. When we use and inference rule for a specific expression, there are metavariables that need to be instantiated from the expression. The metavariables are essentially blanks that need to be filled in with the specifics of the expression you are using the rule for. When a metavariable occurs multiple times in a rule, each same metavariable spot needs to be filled in with the exact same thing from the expression.\n",
    "\n"
   ]
  },
  {
   "cell_type": "markdown",
   "metadata": {},
   "source": [
    "The following inference rules define the operational semantics of our small subset of Lettuce.\n",
    "Remember that $$eval(e,\\sigma) = v$$ means exactly the same thing as $$\\sigma \\vdash e \\Downarrow v$$\n",
    "\n",
    "#### Const\n",
    "\n",
    "$$ \\begin{array}{c}\n",
    "\\\\\n",
    "\\hline\n",
    "\\sigma \\vdash \\texttt{Const}({n}) \\Downarrow {n}\\\\\n",
    "\\end{array}\\ (\\text{Const})$$\n",
    "\n",
    "#### Plus\n",
    "\n",
    "$$\\begin{array}{c}\n",
    "\\sigma \\vdash \\texttt{e1} \\Downarrow v_1\\ \\quad \\sigma \\vdash \\texttt{e2} \\Downarrow v_2\\\\\n",
    "\\hline\n",
    "\\sigma \\vdash \\texttt{Plus}(\\texttt{e1},\\texttt{e2}) \\Downarrow  {v_1} + {v_2} \\\\\n",
    "\\end{array} (\\text{Plus}) $$\n",
    "\n",
    "#### Ident\n",
    "\n",
    "$$\\begin{array}{c}\n",
    "\\sigma(x) = v \\\\\n",
    "\\hline\n",
    "\\sigma \\vdash \\texttt{Ident}(x) \\Downarrow v \\\\\n",
    "\\end{array}$$\n",
    "\n",
    "#### Function Definition\n",
    "\n",
    "$$ \\begin{array}{c}\n",
    "\\\\\n",
    "\\hline\n",
    "\\sigma \\vdash \\texttt{FuncDef}(x, e) \\Downarrow \\text{Closure}(x, \\texttt{e}, \\sigma) \\\\\n",
    "\\end{array} \\text{(Func-Def)}$$\n",
    "\n",
    "#### Function Call\n",
    "\n",
    "$$ \\begin{array}{c}\n",
    "\\sigma \\vdash \\texttt{fun_expr} \\Downarrow \\text{Closure}(\\color{blue}{p},\\color{red}{\\texttt{body_expr}}, \\color{green}{\\pi}) \\quad\n",
    "\\sigma \\vdash \\texttt{arg_expr} \\Downarrow v_a \\quad \n",
    "\\color{green}{\\pi} [ \\color{blue}{p} \\mapsto v_a ] \\vdash \\color{red}{\\texttt{body_expr}} \\Downarrow v_b \\\\\n",
    "\\hline\n",
    "\\sigma \\vdash \\texttt{FunCall(fun_expr, arg_expr)} \\Downarrow v_b\\\\\n",
    "\\end{array} \\text{(Func-Call)}\n",
    "$$"
   ]
  },
  {
   "cell_type": "markdown",
   "metadata": {},
   "source": [
    "## Proof Trees on Examples\n",
    "\n",
    "Consider the following programs.  Each one of these may be evaluated to the given value by the Lettuce Interpreter.  Write a proof tree showing that the computation is correct based on the operational semantics given above."
   ]
  },
  {
   "cell_type": "markdown",
   "metadata": {},
   "source": [
    "1) 2\n",
    "\n",
    "$$ \\begin{array}{c}\n",
    "\\\\\n",
    "\\hline\n",
    "\\emptyset \\vdash \\texttt{Const}(2) \\Downarrow 2 \\\\\n",
    "\\end{array}\\ \\text{(Const)} $$\n"
   ]
  },
  {
   "cell_type": "markdown",
   "metadata": {},
   "source": [
    "2) 2 + 3\n",
    "$$\\begin{array}{c}\n",
    "\\begin{array}{c}\n",
    "\\begin{array}{c}\n",
    "\\\\\n",
    "\\hline\n",
    "\\emptyset \\vdash \\texttt{Const}(2) \\Downarrow 2\\\\\n",
    "\\end{array}(\\text{Const})\n",
    "\\quad\n",
    "\\begin{array}{c}\n",
    "\\\\\n",
    "\\hline\n",
    "\\emptyset \\vdash \\texttt{Const}(3) \\Downarrow 3 \\\\ \\end{array}(\\text{Const})\\\\\n",
    "\\hline\n",
    "\\emptyset \\vdash \\texttt{Plus}(\\texttt{Const}(2), \\texttt{Const}(3)) \\Downarrow \\texttt 5 \\\\\n",
    "\\end{array} (\\text{Plus}) \\end{array}$$"
   ]
  },
  {
   "cell_type": "markdown",
   "metadata": {},
   "source": [
    "3) function(x) x+3\n",
    "    \n",
    "$$ \\begin{array}{c}\n",
    "\\\\\n",
    "\\hline\n",
    "\\emptyset \\vdash \\texttt{FuncDef}(\"x\", \\texttt{Plus}(\\texttt{Ident}(\"x\"), \\texttt{Const}(3) )\n",
    "\\Downarrow\n",
    "\\text{Closure}(\"x\", \\texttt{Plus}(\\texttt{Ident}(\"x\"), \\texttt{Const}(3) ), \\emptyset) \\\\\n",
    "\\end{array} \\text{(Func-Def)}$$"
   ]
  },
  {
   "cell_type": "markdown",
   "metadata": {},
   "source": [
    "4) (function(x) x+3) (2)\n",
    "\n",
    "Since this program gets larger, we will use the concrete lettuce syntax rather than the abstract syntax for the expressions being evaluated. Note that each example above is a sub tree of this proof. This shows how we can build proof trees from smaller examples. Also note that the Func-Def, Const, and Plus sub-trees are all premises of the Func-Call conclusion, and are drawn above that same conclusion.\n",
    "\n",
    "$$\n",
    "\\begin{array}{c}\n",
    "\\begin{array}[b]{c}\n",
    "\\begin{array}{c}\n",
    "\\\\\n",
    "\\hline\n",
    "\\emptyset \\vdash \\texttt{function(x) x+3} \\Downarrow \\text{Closure}(\"x\", \\texttt{x+3}, \\emptyset)\\\\\n",
    "\\end{array}(\\text{Func-Def})\n",
    "\\quad\n",
    "\\begin{array}{c}\n",
    "\\\\\n",
    "\\hline\n",
    "\\emptyset \\vdash 2 \\Downarrow 2\\\\\n",
    "\\end{array}(\\text{Const})\n",
    "\\quad\n",
    "\\begin{array}[b]{c}\n",
    "\\begin{array}[b]{c}\n",
    "\\begin{array}[b]{c}\n",
    "\\\\\n",
    "\\sigma(x)= 2,\\text{ where } \\sigma \\text{ is }[x\\rightarrow2]\\\\\n",
    "\\hline\n",
    "[x\\rightarrow2] \\vdash \\texttt{x} \\Downarrow 2\\\\\n",
    "\\end{array}(\\text{Ident})\n",
    "\\quad\n",
    "\\begin{array}[b]{c}\n",
    "\\\\\n",
    "\\hline\n",
    "[x\\rightarrow2] \\vdash \\texttt{3} \\Downarrow 3 \\\\ \\end{array}(\\text{Const})\\\\\n",
    "\\hline\n",
    "[x\\rightarrow2] \\vdash \\texttt{x + 3} \\Downarrow 5\\\\\n",
    "\\end{array}(\\text{Plus})\\\\\n",
    "\\hline\n",
    "\\emptyset \\vdash \\texttt{(function (x) x + 3) (2)} \\Downarrow 5 \\\\\n",
    "\\end{array} (\\text{Func-Call}) \\end{array}\n",
    "\\end{array}$$"
   ]
  },
  {
   "cell_type": "markdown",
   "metadata": {},
   "source": [
    "5) (function(x) function(y) x+y) 2 3\n",
    "\n",
    "Build the proof tree for this curried function. Make sure to update the environment as you build the proof tree!"
   ]
  },
  {
   "cell_type": "code",
   "execution_count": null,
   "metadata": {},
   "outputs": [],
   "source": []
  }
 ],
 "metadata": {
  "kernelspec": {
   "display_name": "Scala",
   "language": "scala",
   "name": "scala"
  },
  "language_info": {
   "codemirror_mode": "text/x-scala",
   "file_extension": ".scala",
   "mimetype": "text/x-scala",
   "name": "scala",
   "nbconvert_exporter": "script",
   "version": "2.12.10"
  }
 },
 "nbformat": 4,
 "nbformat_minor": 2
}
