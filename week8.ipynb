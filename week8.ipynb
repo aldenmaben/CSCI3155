{
 "cells": [
  {
   "cell_type": "markdown",
   "metadata": {},
   "source": [
    "## Recitation 8\n",
    "\n",
    "In this recitation we discuss operational semantics and environments in lettuce through example evaluations of simple lettuce programs.  "
   ]
  },
  {
   "cell_type": "markdown",
   "metadata": {},
   "source": [
    "1. \n",
    "~~~\n",
    "let x = 4 in \n",
    "     x + 3\n",
    "~~~"
   ]
  },
  {
   "cell_type": "markdown",
   "metadata": {},
   "source": [
    "How do we evaluate this program?\n",
    "\n",
    "<img src=\"img/1/env_1.png\" width=\"150\" align=\"left\"/>\n",
    "<br clear=\"all\" />\n",
    "<img src=\"img/1/env_2.png\" width=\"150\" align=\"left\"/>"
   ]
  },
  {
   "cell_type": "markdown",
   "metadata": {},
   "source": [
    "2. \n",
    "~~~\n",
    "let f = { \n",
    "        let x = 1 in \n",
    "           function(y) x \n",
    "  }\n",
    "     in \n",
    "     f(3)\n",
    "~~~"
   ]
  },
  {
   "cell_type": "markdown",
   "metadata": {},
   "source": [
    "When we evaluate a function definition, it captures the environment in a closure.\n",
    "\n",
    "<img src=\"img/2/env_1.png\" width=\"250\" align=\"left\"/>\n",
    "<br clear=\"all\" />\n",
    "<img src=\"img/2/env_2.png\" width=\"250\" align=\"left\"/>\n",
    "<br clear=\"all\" />\n",
    "<img src=\"img/2/env_3.png\" width=\"250\" align=\"left\"/>\n",
    "<br clear=\"all\" />\n",
    "<img src=\"img/2/env_4.png\" width=\"250\" align=\"left\"/>\n"
   ]
  },
  {
   "cell_type": "markdown",
   "metadata": {},
   "source": [
    "3. \n",
    "~~~\n",
    "let f = function (x) \n",
    "           if (x <= 0) \n",
    "             1\n",
    "           else\n",
    "             (x - 1) * f(x - 1)\n",
    "     in \n",
    "     f(10)\n",
    "~~~"
   ]
  },
  {
   "cell_type": "markdown",
   "metadata": {},
   "source": [
    "When we evaluate an expression and assign it to an identifier, the value is not available in the environment until after the expression is evaluated. This can cause problems if a function needs to refer to itself (recursion).\n",
    "\n",
    "<img src=\"img/3/env_1.png\" width=\"250\" align=\"left\"/>\n",
    "<br clear=\"all\" />\n",
    "<img src=\"img/3/env_2.png\" width=\"250\" align=\"left\"/>\n",
    "<br clear=\"all\" />\n",
    "<img src=\"img/3/env_3.png\" width=\"250\" align=\"left\"/>\n"
   ]
  },
  {
   "cell_type": "markdown",
   "metadata": {},
   "source": [
    "4. \n",
    "~~~\n",
    "let rec f = function (x) \n",
    "           if (x <= 0) \n",
    "             1\n",
    "           else\n",
    "             (x - 1) * f(x - 1)\n",
    "     in \n",
    "     f(10)\n",
    "~~~"
   ]
  },
  {
   "cell_type": "markdown",
   "metadata": {},
   "source": [
    "Instead, we use `let rec <id>`, a special syntax that makes the evaluated expression available.\n",
    "\n",
    "<img src=\"img/4/env_1.png\" width=\"250\" align=\"left\"/>\n",
    "<br clear=\"all\" />\n",
    "<img src=\"img/4/env_2.png\" width=\"250\" align=\"left\"/>\n",
    "<br clear=\"all\" />\n",
    "<img src=\"img/4/env_3.png\" width=\"250\" align=\"left\"/>\n",
    "<br clear=\"all\" />\n",
    "<img src=\"img/4/env_4.png\" width=\"250\" align=\"left\"/>\n"
   ]
  }
 ],
 "metadata": {
  "kernelspec": {
   "display_name": "Scala",
   "language": "scala",
   "name": "scala"
  },
  "language_info": {
   "codemirror_mode": "text/x-scala",
   "file_extension": ".scala",
   "mimetype": "text/x-scala",
   "name": "scala",
   "nbconvert_exporter": "script",
   "version": "2.12.10"
  }
 },
 "nbformat": 4,
 "nbformat_minor": 2
}
